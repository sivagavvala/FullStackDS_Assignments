{
 "cells": [
  {
   "cell_type": "code",
   "execution_count": null,
   "metadata": {},
   "outputs": [],
   "source": [
    "1.In Excel, spreadsheets can have values of data types other than strings; \n",
    "cells can have different fonts, sizes, or color settings; \n",
    "cells can have varying widths and heights; adjacent cells can be merged; \n",
    "and you can embed images and charts.\n",
    "2.You pass a File object, obtained from a call to open().\n",
    "3.File objects need to be opened in read-binary ('rb') \n",
    "for Reader objects and write-binary ('wb') for Writer objects.\n",
    "4.The writerow() method\n",
    "5.The delimiter argument changes the string used to separate cells in a row. \n",
    "The lineterminator argument changes the string used to separate rows.\n",
    "6.json.loads()\n",
    "7.json.dumps()"
   ]
  }
 ],
 "metadata": {
  "kernelspec": {
   "display_name": "Python 3",
   "language": "python",
   "name": "python3"
  },
  "language_info": {
   "codemirror_mode": {
    "name": "ipython",
    "version": 3
   },
   "file_extension": ".py",
   "mimetype": "text/x-python",
   "name": "python",
   "nbconvert_exporter": "python",
   "pygments_lexer": "ipython3",
   "version": "3.8.3"
  }
 },
 "nbformat": 4,
 "nbformat_minor": 4
}
