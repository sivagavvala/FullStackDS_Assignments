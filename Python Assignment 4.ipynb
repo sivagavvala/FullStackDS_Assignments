{
 "cells": [
  {
   "cell_type": "code",
   "execution_count": null,
   "metadata": {},
   "outputs": [],
   "source": [
    "1.[] is an empty list. \n",
    "\n",
    "2.Spam[2]=’hello’ \n",
    "\n",
    "3.d \n",
    "\n",
    "4.d \n",
    "\n",
    "5.[‘a’,’b’] \n",
    "\n",
    "6.1 \n",
    "\n",
    "7.[3.14, 'cat', 11, 'cat', True, 99] \n",
    "\n",
    "8.[3.14, 11, 'cat', True, 99] \n",
    "\n",
    "9.+ and * \n",
    "\n",
    "10.Append() inserts at last & insert() inserts at specific location \n",
    "\n",
    "11.del & remove() \n",
    "\n",
    "12.String & list values can be concatenated, replicated, sliced and used in and not in operators \n",
    "\n",
    "13.Lists are mutable and tuples are immutable \n",
    "\n",
    "14.a=(42,) \n",
    "\n",
    "15.tuple() & list() \n",
    "\n",
    "16.They can be reference to list values \n",
    "\n",
    "17.Copy.copy creates copy with reference, where as deppcopy will duplicate the list "
   ]
  }
 ],
 "metadata": {
  "kernelspec": {
   "display_name": "Python 3",
   "language": "python",
   "name": "python3"
  },
  "language_info": {
   "codemirror_mode": {
    "name": "ipython",
    "version": 3
   },
   "file_extension": ".py",
   "mimetype": "text/x-python",
   "name": "python",
   "nbconvert_exporter": "python",
   "pygments_lexer": "ipython3",
   "version": "3.8.3"
  }
 },
 "nbformat": 4,
 "nbformat_minor": 4
}
