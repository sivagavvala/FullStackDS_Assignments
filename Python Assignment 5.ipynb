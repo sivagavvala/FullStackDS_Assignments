{
 "cells": [
  {
   "cell_type": "code",
   "execution_count": null,
   "metadata": {},
   "outputs": [],
   "source": [
    "1.{}\n",
    "2.{'foo': 42}\n",
    "3. dict is an unordered where as list is ordered\n",
    "4.gets KeyError\n",
    "5. no difference\n",
    "6. cat in spam looks for cat in keys & cat in spam.values() looks for cat in values of dict\n",
    "7. spam.setdefault('color', 'black')\n",
    "8. pprint.pprint()"
   ]
  }
 ],
 "metadata": {
  "kernelspec": {
   "display_name": "Python 3",
   "language": "python",
   "name": "python3"
  },
  "language_info": {
   "codemirror_mode": {
    "name": "ipython",
    "version": 3
   },
   "file_extension": ".py",
   "mimetype": "text/x-python",
   "name": "python",
   "nbconvert_exporter": "python",
   "pygments_lexer": "ipython3",
   "version": "3.8.3"
  }
 },
 "nbformat": 4,
 "nbformat_minor": 4
}
