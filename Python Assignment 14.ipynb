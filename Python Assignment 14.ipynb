{
 "cells": [
  {
   "cell_type": "code",
   "execution_count": null,
   "metadata": {},
   "outputs": [],
   "source": [
    "1.An RGBA value is a tuple of 4 integers, each ranging from 0 to 255. \n",
    "The four integers correspond to the amount of red, green, blue, and alpha (transparency) in the color.\n",
    "2.A function call to ImageColor.getcolor('CornflowerBlue', 'RGBA') will return (100, 149, 237, 255),\n",
    "the RGBA value for that color.\n",
    "3.A box tuple is a tuple value of four integers: the left edge x-coordinate, the top edge y-coordinate, \n",
    "the width, and the height, respectively.\n",
    "\n",
    "\n",
    "\n"
   ]
  },
  {
   "cell_type": "code",
   "execution_count": 3,
   "metadata": {},
   "outputs": [
    {
     "name": "stdout",
     "output_type": "stream",
     "text": [
      "2500 1665\n"
     ]
    }
   ],
   "source": [
    "from PIL import Image\n",
    "im = Image.open(r\"C:\\Users\\sivag\\Desktop\\Ineuron\\FullStack\\Assignments\\abc.jpg\") \n",
    "im.show() \n",
    "width, height = im.size\n",
    "print(width,height)"
   ]
  },
  {
   "cell_type": "code",
   "execution_count": 6,
   "metadata": {},
   "outputs": [],
   "source": [
    "im.save('new_filename.png') "
   ]
  },
  {
   "cell_type": "code",
   "execution_count": null,
   "metadata": {},
   "outputs": [],
   "source": [
    "The ImageDraw module contains code to draw on images."
   ]
  },
  {
   "cell_type": "code",
   "execution_count": null,
   "metadata": {},
   "outputs": [],
   "source": [
    "ImageDraw objects have shape-drawing methods such as point(), line(), or rectangle().\n",
    "They are returned by passing the Image object to the ImageDraw.Draw() function."
   ]
  },
  {
   "cell_type": "code",
   "execution_count": null,
   "metadata": {},
   "outputs": [],
   "source": []
  }
 ],
 "metadata": {
  "kernelspec": {
   "display_name": "Python 3",
   "language": "python",
   "name": "python3"
  },
  "language_info": {
   "codemirror_mode": {
    "name": "ipython",
    "version": 3
   },
   "file_extension": ".py",
   "mimetype": "text/x-python",
   "name": "python",
   "nbconvert_exporter": "python",
   "pygments_lexer": "ipython3",
   "version": "3.8.3"
  }
 },
 "nbformat": 4,
 "nbformat_minor": 4
}
