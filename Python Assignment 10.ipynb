{
 "cells": [
  {
   "cell_type": "code",
   "execution_count": null,
   "metadata": {},
   "outputs": [],
   "source": [
    "1.The shutil.copy() function will copy a single file, \n",
    "while shutil.copytree() will copy an entire folder, along with all its contents.\n",
    "2.The shutil.move() function is used for renaming files, as well as moving the\n",
    "3.The send2trash functions will move a file or folder to the recycle bin, \n",
    "while shutil functions will permanently delete files and folders.\n",
    "4.The zipfile.ZipFile() function is equivalent to the open() function;\n",
    "the first argument is the filename, \n",
    "and the second argument is the mode to open the ZIP file in (read, write, or append)."
   ]
  },
  {
   "cell_type": "code",
   "execution_count": null,
   "metadata": {},
   "outputs": [],
   "source": []
  },
  {
   "cell_type": "code",
   "execution_count": 12,
   "metadata": {},
   "outputs": [
    {
     "name": "stdout",
     "output_type": "stream",
     "text": [
      "Looking in C:\\Users\\sivag\\Desktop\\Ineuron\\FullStack\\Assignments for files with extensions of ['.ipynb']\n",
      "Coping C:\\Users\\sivag\\Desktop\\Ineuron\\FullStack\\Assignments\\Python Assignement 10.ipynb to C:\\Users\\sivag\\Desktop\\Ineuron\\FullStack\\cp_assgn\n",
      "Coping C:\\Users\\sivag\\Desktop\\Ineuron\\FullStack\\Assignments\\Python Assignement 11.ipynb to C:\\Users\\sivag\\Desktop\\Ineuron\\FullStack\\cp_assgn\n",
      "Coping C:\\Users\\sivag\\Desktop\\Ineuron\\FullStack\\Assignments\\Python Assignement 9.ipynb to C:\\Users\\sivag\\Desktop\\Ineuron\\FullStack\\cp_assgn\n",
      "Coping C:\\Users\\sivag\\Desktop\\Ineuron\\FullStack\\Assignments\\Python Assignment 1.ipynb to C:\\Users\\sivag\\Desktop\\Ineuron\\FullStack\\cp_assgn\n",
      "Coping C:\\Users\\sivag\\Desktop\\Ineuron\\FullStack\\Assignments\\Python Assignment 2.ipynb to C:\\Users\\sivag\\Desktop\\Ineuron\\FullStack\\cp_assgn\n",
      "Coping C:\\Users\\sivag\\Desktop\\Ineuron\\FullStack\\Assignments\\Python Assignment 3.ipynb to C:\\Users\\sivag\\Desktop\\Ineuron\\FullStack\\cp_assgn\n",
      "Coping C:\\Users\\sivag\\Desktop\\Ineuron\\FullStack\\Assignments\\Python Assignment 4.ipynb to C:\\Users\\sivag\\Desktop\\Ineuron\\FullStack\\cp_assgn\n",
      "Coping C:\\Users\\sivag\\Desktop\\Ineuron\\FullStack\\Assignments\\Python Assignment 5.ipynb to C:\\Users\\sivag\\Desktop\\Ineuron\\FullStack\\cp_assgn\n",
      "Coping C:\\Users\\sivag\\Desktop\\Ineuron\\FullStack\\Assignments\\Python Assignment 6.ipynb to C:\\Users\\sivag\\Desktop\\Ineuron\\FullStack\\cp_assgn\n",
      "Coping C:\\Users\\sivag\\Desktop\\Ineuron\\FullStack\\Assignments\\Python Assignment 7.ipynb to C:\\Users\\sivag\\Desktop\\Ineuron\\FullStack\\cp_assgn\n",
      "Coping C:\\Users\\sivag\\Desktop\\Ineuron\\FullStack\\Assignments\\Python Assignment 8.ipynb to C:\\Users\\sivag\\Desktop\\Ineuron\\FullStack\\cp_assgn\n",
      "Coping C:\\Users\\sivag\\Desktop\\Ineuron\\FullStack\\Assignments\\Untitled.ipynb to C:\\Users\\sivag\\Desktop\\Ineuron\\FullStack\\cp_assgn\n",
      "Coping C:\\Users\\sivag\\Desktop\\Ineuron\\FullStack\\Assignments\\Untitled1.ipynb to C:\\Users\\sivag\\Desktop\\Ineuron\\FullStack\\cp_assgn\n",
      "Coping C:\\Users\\sivag\\Desktop\\Ineuron\\FullStack\\Assignments\\.ipynb_checkpoints\\Python Assignement 10-checkpoint.ipynb to C:\\Users\\sivag\\Desktop\\Ineuron\\FullStack\\cp_assgn\n",
      "Coping C:\\Users\\sivag\\Desktop\\Ineuron\\FullStack\\Assignments\\.ipynb_checkpoints\\Python Assignement 11-checkpoint.ipynb to C:\\Users\\sivag\\Desktop\\Ineuron\\FullStack\\cp_assgn\n"
     ]
    }
   ],
   "source": [
    "import os, shutil\n",
    "extensions = ['.ipynb']\n",
    "folder = os.path.abspath(\"C:/Users/sivag/Desktop/Ineuron/FullStack/Assignments\")\n",
    "destfolder=os.path.abspath(\"C:/Users/sivag/Desktop/Ineuron/FullStack/cp_assgn\")\n",
    "print('Looking in', folder, 'for files with extensions of',  extensions)\n",
    "for foldername, subfolders, filenames in os.walk(folder):\n",
    "        for filename in filenames:\n",
    "            name, extension = os.path.splitext(filename)\n",
    "            if extension in extensions:\n",
    "                fileAbsPath = foldername + os.path.sep + filename\n",
    "                print('Coping', fileAbsPath, 'to', destfolder)\n",
    "                shutil.copy(fileAbsPath, destfolder)"
   ]
  },
  {
   "cell_type": "code",
   "execution_count": null,
   "metadata": {},
   "outputs": [],
   "source": []
  }
 ],
 "metadata": {
  "kernelspec": {
   "display_name": "Python 3",
   "language": "python",
   "name": "python3"
  },
  "language_info": {
   "codemirror_mode": {
    "name": "ipython",
    "version": 3
   },
   "file_extension": ".py",
   "mimetype": "text/x-python",
   "name": "python",
   "nbconvert_exporter": "python",
   "pygments_lexer": "ipython3",
   "version": "3.8.3"
  }
 },
 "nbformat": 4,
 "nbformat_minor": 4
}
