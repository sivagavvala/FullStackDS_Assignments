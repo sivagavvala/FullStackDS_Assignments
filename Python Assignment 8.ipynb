{
 "cells": [
  {
   "cell_type": "code",
   "execution_count": null,
   "metadata": {},
   "outputs": [],
   "source": [
    "1. we need to pip install pyinputplus\n",
    "2.it is recommended to import as pypi\n",
    "3. Prompts the user to enter an integer value. Returns the integer as an int value. \n",
    "Prompts the user to enter a floating point number value. Returns the number as a float.\n",
    "4. response = pyip.inputNum(lessThan=99)\n",
    "5.blockRegexes - with regex input we want to block, allowRegexes-with regex input we want to allow\n",
    "6.Blank values are not allowed.\n",
    "7. throws exception wothpout default return, else returns default after 3 times space input."
   ]
  }
 ],
 "metadata": {
  "kernelspec": {
   "display_name": "Python 3",
   "language": "python",
   "name": "python3"
  },
  "language_info": {
   "codemirror_mode": {
    "name": "ipython",
    "version": 3
   },
   "file_extension": ".py",
   "mimetype": "text/x-python",
   "name": "python",
   "nbconvert_exporter": "python",
   "pygments_lexer": "ipython3",
   "version": "3.8.3"
  }
 },
 "nbformat": 4,
 "nbformat_minor": 4
}
