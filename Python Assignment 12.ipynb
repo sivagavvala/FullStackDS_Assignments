{
 "cells": [
  {
   "cell_type": "code",
   "execution_count": null,
   "metadata": {},
   "outputs": [],
   "source": [
    "1. rb & wb\n",
    "2. getPage(4)\n",
    "3.numPages=getNumPages()\n",
    "4.decrypt('swordfish')\n",
    "5.rotateClockwise() and rotateCounterClockwise() \n",
    "6.A Document object represents the entire document. The Document object contains a \n",
    "list of Paragraph objects for the paragraphs in the document.\n",
    "A Run object is a contiguous run of text with the same style.\n",
    "7.doc.paragraphs.\n",
    "8.A Run object has these variables \n",
    "9.True always makes the Run object bolded and False makes it always not bolded, \n",
    "no matter what the style’s bold setting is. None will make the Run object just use the style’s bold setting.\n",
    "10.Call the docx.Document() \n",
    "11.doc.add_paragraph('Hello there!')\n",
    "12.The integers 0, 1, 2, 3, and 4"
   ]
  }
 ],
 "metadata": {
  "kernelspec": {
   "display_name": "Python 3",
   "language": "python",
   "name": "python3"
  },
  "language_info": {
   "codemirror_mode": {
    "name": "ipython",
    "version": 3
   },
   "file_extension": ".py",
   "mimetype": "text/x-python",
   "name": "python",
   "nbconvert_exporter": "python",
   "pygments_lexer": "ipython3",
   "version": "3.8.3"
  }
 },
 "nbformat": 4,
 "nbformat_minor": 4
}
