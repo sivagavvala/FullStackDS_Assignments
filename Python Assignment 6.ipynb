{
 "cells": [
  {
   "cell_type": "code",
   "execution_count": null,
   "metadata": {},
   "outputs": [],
   "source": [
    "1. Escape characters are userful for controlling output with spaces or other formats\n",
    "2. \\n is a newline; \\t is a tab.\n",
    "3.\\\\\n",
    "4. we used double quotes in given string\n",
    "5. using multiline strings\n",
    "6. 'e'\n",
    "\n",
    "'Hello'\n",
    "\n",
    "'Hello'\n",
    "\n",
    "'lo, world!'\n",
    "7. 'HELLO'\n",
    "True\n",
    "'hello'\n",
    "8.['Remember,', 'remember,', 'the', 'fifth', 'of', 'July.']\n",
    "'There-can-only-one.'\n",
    "9. rjust(), ljust(), and center() string methods\n",
    "10.  lstrip() and rstrip() methods \n",
    "\n"
   ]
  },
  {
   "cell_type": "code",
   "execution_count": null,
   "metadata": {},
   "outputs": [],
   "source": []
  }
 ],
 "metadata": {
  "kernelspec": {
   "display_name": "Python 3",
   "language": "python",
   "name": "python3"
  },
  "language_info": {
   "codemirror_mode": {
    "name": "ipython",
    "version": 3
   },
   "file_extension": ".py",
   "mimetype": "text/x-python",
   "name": "python",
   "nbconvert_exporter": "python",
   "pygments_lexer": "ipython3",
   "version": "3.8.3"
  }
 },
 "nbformat": 4,
 "nbformat_minor": 4
}
