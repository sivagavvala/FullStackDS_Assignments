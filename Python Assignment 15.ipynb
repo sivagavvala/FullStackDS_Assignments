{
 "cells": [
  {
   "cell_type": "code",
   "execution_count": 9,
   "metadata": {},
   "outputs": [
    {
     "name": "stdout",
     "output_type": "stream",
     "text": [
      "enter no of sec/min : 60\n",
      "enter no of min/hr : 60\n"
     ]
    }
   ],
   "source": [
    "\n",
    "sec_min=input('enter no of sec/min : ')\n",
    "min_hr=input('enter no of min/hr : ')\n",
    "seconds_per_hour=int(sec_min)*int(min_hr)\n"
   ]
  },
  {
   "cell_type": "code",
   "execution_count": 10,
   "metadata": {},
   "outputs": [
    {
     "data": {
      "text/plain": [
       "3600"
      ]
     },
     "execution_count": 10,
     "metadata": {},
     "output_type": "execute_result"
    }
   ],
   "source": [
    "seconds_per_hour"
   ]
  },
  {
   "cell_type": "code",
   "execution_count": 12,
   "metadata": {},
   "outputs": [
    {
     "data": {
      "text/plain": [
       "86400"
      ]
     },
     "execution_count": 12,
     "metadata": {},
     "output_type": "execute_result"
    }
   ],
   "source": [
    "seconds_per_day=seconds_per_hour*24\n",
    "seconds_per_day"
   ]
  },
  {
   "cell_type": "code",
   "execution_count": 13,
   "metadata": {},
   "outputs": [
    {
     "data": {
      "text/plain": [
       "24.0"
      ]
     },
     "execution_count": 13,
     "metadata": {},
     "output_type": "execute_result"
    }
   ],
   "source": [
    "(seconds_per_day/seconds_per_hour)"
   ]
  },
  {
   "cell_type": "code",
   "execution_count": 15,
   "metadata": {},
   "outputs": [
    {
     "data": {
      "text/plain": [
       "24"
      ]
     },
     "execution_count": 15,
     "metadata": {},
     "output_type": "execute_result"
    }
   ],
   "source": [
    "(seconds_per_day//seconds_per_hour)"
   ]
  },
  {
   "cell_type": "code",
   "execution_count": null,
   "metadata": {},
   "outputs": [],
   "source": [
    "6. YES"
   ]
  },
  {
   "cell_type": "code",
   "execution_count": 16,
   "metadata": {},
   "outputs": [],
   "source": [
    "def genPrimes(num):\n",
    "    for j in range(2,num):\n",
    "        if j > 1:\n",
    "            for i in range(2, int(j/2)+1):\n",
    "                if (j % i) == 0:\n",
    "                    break\n",
    "            else:\n",
    "                yield j"
   ]
  },
  {
   "cell_type": "code",
   "execution_count": 26,
   "metadata": {},
   "outputs": [
    {
     "name": "stdout",
     "output_type": "stream",
     "text": [
      "Received on next():  2\n",
      "Received on next():  3\n",
      "Received on next():  5\n",
      "Received on next():  7\n",
      "Received on next():  11\n",
      "Received on next():  13\n",
      "Received on next():  17\n",
      "Received on next():  19\n",
      "Received on next():  23\n",
      "Received on next():  29\n",
      "Received on next():  31\n",
      "Received on next():  37\n",
      "Received on next():  41\n",
      "Received on next():  43\n",
      "Received on next():  47\n"
     ]
    }
   ],
   "source": [
    "res=genPrimes(50)\n",
    "while True:\n",
    "    try:\n",
    "        print (\"Received on next(): \", next(res))\n",
    "    except StopIteration:\n",
    "        break"
   ]
  },
  {
   "cell_type": "code",
   "execution_count": null,
   "metadata": {},
   "outputs": [],
   "source": []
  }
 ],
 "metadata": {
  "kernelspec": {
   "display_name": "Python 3",
   "language": "python",
   "name": "python3"
  },
  "language_info": {
   "codemirror_mode": {
    "name": "ipython",
    "version": 3
   },
   "file_extension": ".py",
   "mimetype": "text/x-python",
   "name": "python",
   "nbconvert_exporter": "python",
   "pygments_lexer": "ipython3",
   "version": "3.8.3"
  }
 },
 "nbformat": 4,
 "nbformat_minor": 4
}
