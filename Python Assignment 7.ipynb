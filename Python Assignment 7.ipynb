{
 "cells": [
  {
   "cell_type": "code",
   "execution_count": null,
   "metadata": {},
   "outputs": [],
   "source": [
    "1.re.compile() function\n",
    "2.Raw strings are used so that backslashes do not have to be escaped.\n",
    "3.The search() method returns Match objects.\n",
    "4.The group() method returns strings of the matched text.\n",
    "5.Group 0 is the entire match, group 1 covers the first set of parentheses, and group 2 covers the second set of parentheses.\n",
    "6.Periods and parentheses can be escaped with a backslash: \\., \\(, and \\).\n",
    "7. If the regex has no groups, a list of strings is returned. If the regex has groups, a list of tuples of strings is returned.\n",
    "8. either, or\n",
    "10.The + matches one or more. The * matches zero or more.\n",
    "11.The {3} matches exactly three instances of the preceding group. The {3,5} matches between three and five instances.\n",
    "12. The \\d, \\w, and \\s shorthand character classes match a single digit, word, or space character, respectively.\n",
    "13. The \\D, \\W, and \\S shorthand character classes match a single character that is not a digit, word, or space character, respectively.\n",
    "15. \n",
    "16.Passing re.I or re.IGNORECASE as the second argument to re.compile() will make the matching case insensitive.\n",
    "17.The . character normally matches any character except the newline character. \n",
    "If re.DOTALL is passed as the second argument to re.compile(), \n",
    "then the dot will also match newline characters.\n",
    "18.'X drummers, X pipers, five rings, Xhen'\n",
    "19.The re.VERBOSE argument allows you to add whitespace and comments to the string passed to re.compile().\n",
    "20.re.compile(r'^\\d{1,3}(,\\d{3})*$') \n",
    "21.re.compile(r'[A-Z][a-z]*\\Watanabe')\n",
    "22.re.compile(r'(Alice|Bob|Carol)\\s(eats|pets|throws)\\s(apples|cats|baseballs)\\.', re.IGNORECASE)"
   ]
  }
 ],
 "metadata": {
  "kernelspec": {
   "display_name": "Python 3",
   "language": "python",
   "name": "python3"
  },
  "language_info": {
   "codemirror_mode": {
    "name": "ipython",
    "version": 3
   },
   "file_extension": ".py",
   "mimetype": "text/x-python",
   "name": "python",
   "nbconvert_exporter": "python",
   "pygments_lexer": "ipython3",
   "version": "3.8.3"
  }
 },
 "nbformat": 4,
 "nbformat_minor": 4
}
